{
 "cells": [
  {
   "cell_type": "markdown",
   "metadata": {
    "deletable": true,
    "editable": true
   },
   "source": [
    " # Modeling OpenFDA 2017 First Quarter Data of Critical Care Intravenous Medications [Ver. 0.1 08022017]"
   ]
  },
  {
   "cell_type": "markdown",
   "metadata": {},
   "source": [
    "Author: by Brian O. Pauls (brianpauls@med.umich.edu)"
   ]
  },
  {
   "cell_type": "markdown",
   "metadata": {
    "deletable": true,
    "editable": true
   },
   "source": [
    " ### Describing the code and abbreviations from OpenFDA data\n",
    " \n",
    " The dataset from OpenFDA comes in the form of 7 separate ASCII text file delimited by '$'. \n",
    "\n",
    "File Descriptions for ASCII Data Files:\n",
    "\n",
    "  1. DEMOyyQq.TXT contains patient demographic and administrative information,\n",
    "a single record for each event report.\n",
    "  2. DRUGyyQq.TXT contains drug/biologic information for as many medications as\n",
    "were reported for the event (1 or more per event).\n",
    "  3. REACyyQq.TXT contains all \"Medical Dictionary for Regulatory Activities\"\n",
    "(MedDRA) terms coded for the adverse event (1 or more). For more information\n",
    "on MedDRA, please contact the MSSO Help Desk at mssohelp@meddra.org. The\n",
    "website is www.meddra.org.\n",
    "  4. OUTCyyQq.TXT contains patient outcomes for the event (0 or more).\n",
    "  5. RPSRyyQq.TXT contains report sources for the event (0 or more).\n",
    "  6. THERyyQq.TXT contains drug therapy start dates and end dates for the\n",
    "reported drugs (0 or more per drug per event)\n",
    "\n"
   ]
  },
  {
   "cell_type": "code",
   "execution_count": 1,
   "metadata": {
    "collapsed": false,
    "deletable": true,
    "editable": true
   },
   "outputs": [],
   "source": [
    "import pandas as pd\n",
    "import matplotlib.pyplot as plt\n",
    "import numpy as np\n",
    "from functools import reduce\n",
    "\n",
    "import datetime as dt\n",
    "%matplotlib inline"
   ]
  },
  {
   "cell_type": "markdown",
   "metadata": {
    "deletable": true,
    "editable": true
   },
   "source": [
    "### Part I. Load 2017 Q1 FAERS data and display shortened views for quick referencing"
   ]
  },
  {
   "cell_type": "code",
   "execution_count": 2,
   "metadata": {
    "collapsed": false,
    "deletable": true,
    "editable": true
   },
   "outputs": [],
   "source": [
    "### Define column names\n",
    "\n",
    "demo_head = ['Primary_ID', 'Case_ID', 'Case_Version', 'Initial/Follow-up', 'AE_Start_dt', 'Mfr_Receive_AE_dt',\n",
    "             'FDA_init_Receive_Case_dt', 'FDA_Receive_Case_dt', 'Report_Type', 'Reg_Auth_Case_num', 'mfr_Unique_Report_ID', \n",
    "             'mfr_sender_code', 'Lit_Reference', 'Age', 'Age_Unit', 'Pt_Age_Group','SEX', 'E-submission(Y/N)', 'Pt_Weight','Pt_weight_Unit', \n",
    "             'Report_Send_dt', 'Report_Send_to_mfr_dt', 'Reporter_Occupation', 'Reporter_country', 'Event_country']\n",
    "\n",
    "indi_head = ['Primary_ID', 'Case_ID', 'Drug_Seq', 'MedDRA_indi_term']\n",
    "\n",
    "outc_head = ['Primary_ID', 'Case_ID', 'Pt_Outcome']\n",
    "\n",
    "reac_head = ['Primary_ID', 'Case_ID', 'MedDRA_reac_term', 'ReAdmin_Event_Data']\n",
    "\n",
    "rpsr_head = ['Primary_ID', 'Case_ID', 'RpSr_Code']\n",
    "\n",
    "ther_head = ['Primary_ID', 'Case_ID', 'Drug_Seq', 'Start_Dt', 'End_Dt', 'Therapy_Duration', 'Ther_Units']\n",
    "\n",
    "drug_head = ['Primary_ID', 'Case_ID', 'Drug_Seq', 'Reporter_role', 'Drug_Name', 'Active_Ingredient', 'Value_VBM', \n",
    "             'Drug_Name_Source', 'Route', 'Verbatim_Dose' 'Cum_Dose_to_Rxn', 'Cum_Dose_to_Rxn_Units', 'Dechall_Code',\n",
    "            'Rechall_Code','Lot_Numb', 'Drug_Exp_dt', 'NDA_Numn', 'Dose_Amount', 'Dose_Unit', 'Dose_Form', 'Dose_Freq' ]\n"
   ]
  },
  {
   "cell_type": "code",
   "execution_count": 3,
   "metadata": {
    "collapsed": false,
    "deletable": true,
    "editable": true
   },
   "outputs": [],
   "source": [
    "#### load 2017 Q1 FAERS data from file\n",
    "\n",
    "demographic_txt = pd.read_csv('faers_ascii_2017q1/ascii/DEMO17Q1.txt', delimiter=\"$\",header = 0, names = demo_head, \n",
    "                              low_memory = False,skipinitialspace = True, parse_dates = [6,7])\n",
    "indication_txt = pd.read_csv('faers_ascii_2017q1/ascii/INDI17Q1.txt', delimiter=\"$\", header = 0, names = indi_head, \n",
    "                             low_memory = False, skipinitialspace = True)\n",
    "outcome_txt = pd.read_csv('faers_ascii_2017q1/ascii/OUTC17Q1.txt', delimiter=\"$\", header = 0, names = outc_head, \n",
    "                          low_memory = False, skipinitialspace = True)\n",
    "reaction_txt = pd.read_csv('faers_ascii_2017q1/ascii/REAC17Q1.txt', delimiter=\"$\", header = 0, names = reac_head, \n",
    "                           low_memory = False, skipinitialspace = True)\n",
    "rptsource_txt = pd.read_csv('faers_ascii_2017q1/ascii/RPSR17Q1.txt', delimiter=\"$\", header = 0, names = rpsr_head, \n",
    "                            low_memory = False, skipinitialspace = True)\n",
    "therapy_txt = pd.read_csv('faers_ascii_2017q1/ascii/THER17Q1.txt', delimiter=\"$\", header = 0, names = ther_head, \n",
    "                          low_memory = False, skipinitialspace = True)\n",
    "drug_txt = pd.read_csv('faers_ascii_2017q1/ascii/DRUG17Q1.txt', delimiter=\"$\", header = 0, names = drug_head, \n",
    "                       low_memory = False, skipinitialspace = False)\n"
   ]
  },
  {
   "cell_type": "code",
   "execution_count": 4,
   "metadata": {
    "collapsed": false,
    "deletable": true,
    "editable": true
   },
   "outputs": [
    {
     "data": {
      "text/html": [
       "<div>\n",
       "<table border=\"1\" class=\"dataframe\">\n",
       "  <thead>\n",
       "    <tr style=\"text-align: right;\">\n",
       "      <th></th>\n",
       "      <th>Primary_ID</th>\n",
       "      <th>Case_ID</th>\n",
       "      <th>Case_Version</th>\n",
       "      <th>Initial/Follow-up</th>\n",
       "      <th>AE_Start_dt</th>\n",
       "      <th>Mfr_Receive_AE_dt</th>\n",
       "      <th>FDA_init_Receive_Case_dt</th>\n",
       "      <th>FDA_Receive_Case_dt</th>\n",
       "      <th>Report_Type</th>\n",
       "      <th>Reg_Auth_Case_num</th>\n",
       "      <th>...</th>\n",
       "      <th>Pt_Age_Group</th>\n",
       "      <th>SEX</th>\n",
       "      <th>E-submission(Y/N)</th>\n",
       "      <th>Pt_Weight</th>\n",
       "      <th>Pt_weight_Unit</th>\n",
       "      <th>Report_Send_dt</th>\n",
       "      <th>Report_Send_to_mfr_dt</th>\n",
       "      <th>Reporter_Occupation</th>\n",
       "      <th>Reporter_country</th>\n",
       "      <th>Event_country</th>\n",
       "    </tr>\n",
       "  </thead>\n",
       "  <tbody>\n",
       "    <tr>\n",
       "      <th>0</th>\n",
       "      <td>100039237</td>\n",
       "      <td>10003923</td>\n",
       "      <td>7</td>\n",
       "      <td>F</td>\n",
       "      <td>2012.0</td>\n",
       "      <td>20170111.0</td>\n",
       "      <td>2014-03-12</td>\n",
       "      <td>2017-01-19</td>\n",
       "      <td>EXP</td>\n",
       "      <td>NaN</td>\n",
       "      <td>...</td>\n",
       "      <td>NaN</td>\n",
       "      <td>F</td>\n",
       "      <td>Y</td>\n",
       "      <td>62.13</td>\n",
       "      <td>KG</td>\n",
       "      <td>20170119.0</td>\n",
       "      <td>NaN</td>\n",
       "      <td>OT</td>\n",
       "      <td>US</td>\n",
       "      <td>US</td>\n",
       "    </tr>\n",
       "    <tr>\n",
       "      <th>1</th>\n",
       "      <td>1000588614</td>\n",
       "      <td>10005886</td>\n",
       "      <td>14</td>\n",
       "      <td>F</td>\n",
       "      <td>20140116.0</td>\n",
       "      <td>20170126.0</td>\n",
       "      <td>2014-03-13</td>\n",
       "      <td>2017-02-01</td>\n",
       "      <td>EXP</td>\n",
       "      <td>NaN</td>\n",
       "      <td>...</td>\n",
       "      <td>NaN</td>\n",
       "      <td>M</td>\n",
       "      <td>Y</td>\n",
       "      <td>90.00</td>\n",
       "      <td>KG</td>\n",
       "      <td>20170201.0</td>\n",
       "      <td>NaN</td>\n",
       "      <td>MD</td>\n",
       "      <td>IL</td>\n",
       "      <td>IL</td>\n",
       "    </tr>\n",
       "    <tr>\n",
       "      <th>2</th>\n",
       "      <td>100063033</td>\n",
       "      <td>10006303</td>\n",
       "      <td>3</td>\n",
       "      <td>F</td>\n",
       "      <td>NaN</td>\n",
       "      <td>20140304.0</td>\n",
       "      <td>2014-03-13</td>\n",
       "      <td>2017-02-27</td>\n",
       "      <td>EXP</td>\n",
       "      <td>NaN</td>\n",
       "      <td>...</td>\n",
       "      <td>A</td>\n",
       "      <td>F</td>\n",
       "      <td>Y</td>\n",
       "      <td>NaN</td>\n",
       "      <td>NaN</td>\n",
       "      <td>20170227.0</td>\n",
       "      <td>NaN</td>\n",
       "      <td>OT</td>\n",
       "      <td>CA</td>\n",
       "      <td>CA</td>\n",
       "    </tr>\n",
       "    <tr>\n",
       "      <th>3</th>\n",
       "      <td>100065923</td>\n",
       "      <td>10006592</td>\n",
       "      <td>3</td>\n",
       "      <td>F</td>\n",
       "      <td>20170211.0</td>\n",
       "      <td>20170214.0</td>\n",
       "      <td>2014-03-13</td>\n",
       "      <td>2017-02-17</td>\n",
       "      <td>EXP</td>\n",
       "      <td>NaN</td>\n",
       "      <td>...</td>\n",
       "      <td>E</td>\n",
       "      <td>F</td>\n",
       "      <td>Y</td>\n",
       "      <td>NaN</td>\n",
       "      <td>NaN</td>\n",
       "      <td>20170217.0</td>\n",
       "      <td>NaN</td>\n",
       "      <td>OT</td>\n",
       "      <td>US</td>\n",
       "      <td>US</td>\n",
       "    </tr>\n",
       "    <tr>\n",
       "      <th>4</th>\n",
       "      <td>100085064</td>\n",
       "      <td>10008506</td>\n",
       "      <td>4</td>\n",
       "      <td>F</td>\n",
       "      <td>20140402.0</td>\n",
       "      <td>20170214.0</td>\n",
       "      <td>2014-03-13</td>\n",
       "      <td>2017-02-20</td>\n",
       "      <td>EXP</td>\n",
       "      <td>NaN</td>\n",
       "      <td>...</td>\n",
       "      <td>A</td>\n",
       "      <td>F</td>\n",
       "      <td>Y</td>\n",
       "      <td>NaN</td>\n",
       "      <td>NaN</td>\n",
       "      <td>20170220.0</td>\n",
       "      <td>NaN</td>\n",
       "      <td>OT</td>\n",
       "      <td>US</td>\n",
       "      <td>US</td>\n",
       "    </tr>\n",
       "  </tbody>\n",
       "</table>\n",
       "<p>5 rows × 25 columns</p>\n",
       "</div>"
      ],
      "text/plain": [
       "   Primary_ID   Case_ID  Case_Version Initial/Follow-up  AE_Start_dt  \\\n",
       "0   100039237  10003923             7                 F       2012.0   \n",
       "1  1000588614  10005886            14                 F   20140116.0   \n",
       "2   100063033  10006303             3                 F          NaN   \n",
       "3   100065923  10006592             3                 F   20170211.0   \n",
       "4   100085064  10008506             4                 F   20140402.0   \n",
       "\n",
       "   Mfr_Receive_AE_dt FDA_init_Receive_Case_dt FDA_Receive_Case_dt Report_Type  \\\n",
       "0         20170111.0               2014-03-12          2017-01-19         EXP   \n",
       "1         20170126.0               2014-03-13          2017-02-01         EXP   \n",
       "2         20140304.0               2014-03-13          2017-02-27         EXP   \n",
       "3         20170214.0               2014-03-13          2017-02-17         EXP   \n",
       "4         20170214.0               2014-03-13          2017-02-20         EXP   \n",
       "\n",
       "  Reg_Auth_Case_num      ...      Pt_Age_Group SEX E-submission(Y/N)  \\\n",
       "0               NaN      ...               NaN   F                 Y   \n",
       "1               NaN      ...               NaN   M                 Y   \n",
       "2               NaN      ...                 A   F                 Y   \n",
       "3               NaN      ...                 E   F                 Y   \n",
       "4               NaN      ...                 A   F                 Y   \n",
       "\n",
       "   Pt_Weight Pt_weight_Unit Report_Send_dt Report_Send_to_mfr_dt  \\\n",
       "0      62.13             KG     20170119.0                   NaN   \n",
       "1      90.00             KG     20170201.0                   NaN   \n",
       "2        NaN            NaN     20170227.0                   NaN   \n",
       "3        NaN            NaN     20170217.0                   NaN   \n",
       "4        NaN            NaN     20170220.0                   NaN   \n",
       "\n",
       "  Reporter_Occupation  Reporter_country Event_country  \n",
       "0                  OT                US            US  \n",
       "1                  MD                IL            IL  \n",
       "2                  OT                CA            CA  \n",
       "3                  OT                US            US  \n",
       "4                  OT                US            US  \n",
       "\n",
       "[5 rows x 25 columns]"
      ]
     },
     "execution_count": 4,
     "metadata": {},
     "output_type": "execute_result"
    }
   ],
   "source": [
    "### Demographics dataframe\n",
    "demographic_txt.reset_index(level = 0)\n",
    "demographic_txt.fillna(value = 'Unknown' )\n",
    "demographic_txt = pd.DataFrame(demographic_txt)\n",
    "\n",
    "demographic_txt[:5] #--preview first 5 rows -"
   ]
  },
  {
   "cell_type": "code",
   "execution_count": 5,
   "metadata": {
    "collapsed": false,
    "deletable": true,
    "editable": true
   },
   "outputs": [
    {
     "data": {
      "text/html": [
       "<div>\n",
       "<table border=\"1\" class=\"dataframe\">\n",
       "  <thead>\n",
       "    <tr style=\"text-align: right;\">\n",
       "      <th></th>\n",
       "      <th>Primary_ID</th>\n",
       "      <th>Case_ID</th>\n",
       "      <th>Drug_Seq</th>\n",
       "      <th>MedDRA_indi_term</th>\n",
       "    </tr>\n",
       "  </thead>\n",
       "  <tbody>\n",
       "    <tr>\n",
       "      <th>0</th>\n",
       "      <td>100039237</td>\n",
       "      <td>10003923</td>\n",
       "      <td>1</td>\n",
       "      <td>Myelofibrosis</td>\n",
       "    </tr>\n",
       "    <tr>\n",
       "      <th>1</th>\n",
       "      <td>100039237</td>\n",
       "      <td>10003923</td>\n",
       "      <td>2</td>\n",
       "      <td>Polycythaemia vera</td>\n",
       "    </tr>\n",
       "    <tr>\n",
       "      <th>2</th>\n",
       "      <td>100039237</td>\n",
       "      <td>10003923</td>\n",
       "      <td>3</td>\n",
       "      <td>Malignant melanoma</td>\n",
       "    </tr>\n",
       "    <tr>\n",
       "      <th>3</th>\n",
       "      <td>100039237</td>\n",
       "      <td>10003923</td>\n",
       "      <td>4</td>\n",
       "      <td>Product used for unknown indication</td>\n",
       "    </tr>\n",
       "    <tr>\n",
       "      <th>4</th>\n",
       "      <td>100039237</td>\n",
       "      <td>10003923</td>\n",
       "      <td>5</td>\n",
       "      <td>Product used for unknown indication</td>\n",
       "    </tr>\n",
       "  </tbody>\n",
       "</table>\n",
       "</div>"
      ],
      "text/plain": [
       "   Primary_ID   Case_ID  Drug_Seq                     MedDRA_indi_term\n",
       "0   100039237  10003923         1                        Myelofibrosis\n",
       "1   100039237  10003923         2                   Polycythaemia vera\n",
       "2   100039237  10003923         3                   Malignant melanoma\n",
       "3   100039237  10003923         4  Product used for unknown indication\n",
       "4   100039237  10003923         5  Product used for unknown indication"
      ]
     },
     "execution_count": 5,
     "metadata": {},
     "output_type": "execute_result"
    }
   ],
   "source": [
    "### Indications dataframe\n",
    "indication_txt.reset_index(level = 0)\n",
    "indication_txt.fillna(value = 'Unknown' )\n",
    "indication_txt = pd.DataFrame(indication_txt)\n",
    "\n",
    "indication_txt[:5] #--preview first 5 rows -"
   ]
  },
  {
   "cell_type": "code",
   "execution_count": 6,
   "metadata": {
    "collapsed": false,
    "deletable": true,
    "editable": true
   },
   "outputs": [
    {
     "data": {
      "text/html": [
       "<div>\n",
       "<table border=\"1\" class=\"dataframe\">\n",
       "  <thead>\n",
       "    <tr style=\"text-align: right;\">\n",
       "      <th></th>\n",
       "      <th>index</th>\n",
       "      <th>Primary_ID</th>\n",
       "      <th>Case_ID</th>\n",
       "      <th>Pt_Outcome</th>\n",
       "    </tr>\n",
       "  </thead>\n",
       "  <tbody>\n",
       "    <tr>\n",
       "      <th>0</th>\n",
       "      <td>0</td>\n",
       "      <td>100039237</td>\n",
       "      <td>10003923</td>\n",
       "      <td>OT</td>\n",
       "    </tr>\n",
       "    <tr>\n",
       "      <th>1</th>\n",
       "      <td>1</td>\n",
       "      <td>1000588614</td>\n",
       "      <td>10005886</td>\n",
       "      <td>HO</td>\n",
       "    </tr>\n",
       "    <tr>\n",
       "      <th>2</th>\n",
       "      <td>2</td>\n",
       "      <td>100063033</td>\n",
       "      <td>10006303</td>\n",
       "      <td>HO</td>\n",
       "    </tr>\n",
       "    <tr>\n",
       "      <th>3</th>\n",
       "      <td>3</td>\n",
       "      <td>100063033</td>\n",
       "      <td>10006303</td>\n",
       "      <td>OT</td>\n",
       "    </tr>\n",
       "    <tr>\n",
       "      <th>4</th>\n",
       "      <td>4</td>\n",
       "      <td>100065923</td>\n",
       "      <td>10006592</td>\n",
       "      <td>DE</td>\n",
       "    </tr>\n",
       "  </tbody>\n",
       "</table>\n",
       "</div>"
      ],
      "text/plain": [
       "   index  Primary_ID   Case_ID Pt_Outcome\n",
       "0      0   100039237  10003923         OT\n",
       "1      1  1000588614  10005886         HO\n",
       "2      2   100063033  10006303         HO\n",
       "3      3   100063033  10006303         OT\n",
       "4      4   100065923  10006592         DE"
      ]
     },
     "execution_count": 6,
     "metadata": {},
     "output_type": "execute_result"
    }
   ],
   "source": [
    "### Outcomes dataframe\n",
    "outcome_txt.reset_index(inplace = True)\n",
    "outcome_txt.fillna(value = 'Unknown' )\n",
    "outcome_txt = pd.DataFrame(outcome_txt)\n",
    "\n",
    "outcome_txt[:5] #--preview first 5 rows -"
   ]
  },
  {
   "cell_type": "code",
   "execution_count": 7,
   "metadata": {
    "collapsed": false,
    "deletable": true,
    "editable": true
   },
   "outputs": [
    {
     "data": {
      "text/html": [
       "<div>\n",
       "<table border=\"1\" class=\"dataframe\">\n",
       "  <thead>\n",
       "    <tr style=\"text-align: right;\">\n",
       "      <th></th>\n",
       "      <th>index</th>\n",
       "      <th>Primary_ID</th>\n",
       "      <th>Case_ID</th>\n",
       "      <th>MedDRA_reac_term</th>\n",
       "      <th>ReAdmin_Event_Data</th>\n",
       "    </tr>\n",
       "  </thead>\n",
       "  <tbody>\n",
       "    <tr>\n",
       "      <th>0</th>\n",
       "      <td>0</td>\n",
       "      <td>100039237</td>\n",
       "      <td>10003923</td>\n",
       "      <td>Blindness</td>\n",
       "      <td>NaN</td>\n",
       "    </tr>\n",
       "    <tr>\n",
       "      <th>1</th>\n",
       "      <td>1</td>\n",
       "      <td>100039237</td>\n",
       "      <td>10003923</td>\n",
       "      <td>Constipation</td>\n",
       "      <td>NaN</td>\n",
       "    </tr>\n",
       "    <tr>\n",
       "      <th>2</th>\n",
       "      <td>2</td>\n",
       "      <td>100039237</td>\n",
       "      <td>10003923</td>\n",
       "      <td>Diarrhoea</td>\n",
       "      <td>NaN</td>\n",
       "    </tr>\n",
       "    <tr>\n",
       "      <th>3</th>\n",
       "      <td>3</td>\n",
       "      <td>100039237</td>\n",
       "      <td>10003923</td>\n",
       "      <td>Dizziness</td>\n",
       "      <td>NaN</td>\n",
       "    </tr>\n",
       "    <tr>\n",
       "      <th>4</th>\n",
       "      <td>4</td>\n",
       "      <td>100039237</td>\n",
       "      <td>10003923</td>\n",
       "      <td>Dry eye</td>\n",
       "      <td>NaN</td>\n",
       "    </tr>\n",
       "  </tbody>\n",
       "</table>\n",
       "</div>"
      ],
      "text/plain": [
       "   index  Primary_ID   Case_ID MedDRA_reac_term ReAdmin_Event_Data\n",
       "0      0   100039237  10003923        Blindness                NaN\n",
       "1      1   100039237  10003923     Constipation                NaN\n",
       "2      2   100039237  10003923        Diarrhoea                NaN\n",
       "3      3   100039237  10003923        Dizziness                NaN\n",
       "4      4   100039237  10003923          Dry eye                NaN"
      ]
     },
     "execution_count": 7,
     "metadata": {},
     "output_type": "execute_result"
    }
   ],
   "source": [
    "### Reaction dataframe\n",
    "reaction_txt.reset_index(inplace = True)\n",
    "reaction_txt.fillna(value = 'Unknown')\n",
    "reaction_txt = pd.DataFrame(reaction_txt)\n",
    "\n",
    "reaction_txt[:5] #--preview first 5 rows -"
   ]
  },
  {
   "cell_type": "code",
   "execution_count": 8,
   "metadata": {
    "collapsed": false,
    "deletable": true,
    "editable": true
   },
   "outputs": [
    {
     "data": {
      "text/html": [
       "<div>\n",
       "<table border=\"1\" class=\"dataframe\">\n",
       "  <thead>\n",
       "    <tr style=\"text-align: right;\">\n",
       "      <th></th>\n",
       "      <th>Primary_ID</th>\n",
       "      <th>Case_ID</th>\n",
       "      <th>RpSr_Code</th>\n",
       "    </tr>\n",
       "  </thead>\n",
       "  <tbody>\n",
       "    <tr>\n",
       "      <th>0</th>\n",
       "      <td>129685711</td>\n",
       "      <td>12968571</td>\n",
       "      <td>HP</td>\n",
       "    </tr>\n",
       "    <tr>\n",
       "      <th>1</th>\n",
       "      <td>130157522</td>\n",
       "      <td>13015752</td>\n",
       "      <td>HP</td>\n",
       "    </tr>\n",
       "    <tr>\n",
       "      <th>2</th>\n",
       "      <td>130815331</td>\n",
       "      <td>13081533</td>\n",
       "      <td>CSM</td>\n",
       "    </tr>\n",
       "    <tr>\n",
       "      <th>3</th>\n",
       "      <td>130815371</td>\n",
       "      <td>13081537</td>\n",
       "      <td>CSM</td>\n",
       "    </tr>\n",
       "    <tr>\n",
       "      <th>4</th>\n",
       "      <td>130838641</td>\n",
       "      <td>13083864</td>\n",
       "      <td>HP</td>\n",
       "    </tr>\n",
       "  </tbody>\n",
       "</table>\n",
       "</div>"
      ],
      "text/plain": [
       "   Primary_ID   Case_ID RpSr_Code\n",
       "0   129685711  12968571        HP\n",
       "1   130157522  13015752        HP\n",
       "2   130815331  13081533       CSM\n",
       "3   130815371  13081537       CSM\n",
       "4   130838641  13083864        HP"
      ]
     },
     "execution_count": 8,
     "metadata": {},
     "output_type": "execute_result"
    }
   ],
   "source": [
    "### Report Sources dataframe\n",
    "rptsource_txt.reset_index(inplace = True, drop = True)\n",
    "rptsource_txt.fillna (value = 'Unknown')\n",
    "rptsource_txt = pd.DataFrame(rptsource_txt)\n",
    "\n",
    "rptsource_txt[:5] #--preview first 5 rows -"
   ]
  },
  {
   "cell_type": "code",
   "execution_count": 9,
   "metadata": {
    "collapsed": false,
    "deletable": true,
    "editable": true
   },
   "outputs": [
    {
     "data": {
      "text/html": [
       "<div>\n",
       "<table border=\"1\" class=\"dataframe\">\n",
       "  <thead>\n",
       "    <tr style=\"text-align: right;\">\n",
       "      <th></th>\n",
       "      <th>index</th>\n",
       "      <th>Primary_ID</th>\n",
       "      <th>Case_ID</th>\n",
       "      <th>Drug_Seq</th>\n",
       "      <th>Start_Dt</th>\n",
       "      <th>End_Dt</th>\n",
       "      <th>Therapy_Duration</th>\n",
       "      <th>Ther_Units</th>\n",
       "    </tr>\n",
       "  </thead>\n",
       "  <tbody>\n",
       "    <tr>\n",
       "      <th>0</th>\n",
       "      <td>0</td>\n",
       "      <td>100039237</td>\n",
       "      <td>10003923</td>\n",
       "      <td>1</td>\n",
       "      <td>2011.0</td>\n",
       "      <td>NaN</td>\n",
       "      <td>NaN</td>\n",
       "      <td>NaN</td>\n",
       "    </tr>\n",
       "    <tr>\n",
       "      <th>1</th>\n",
       "      <td>1</td>\n",
       "      <td>100039237</td>\n",
       "      <td>10003923</td>\n",
       "      <td>2</td>\n",
       "      <td>20120106.0</td>\n",
       "      <td>NaN</td>\n",
       "      <td>NaN</td>\n",
       "      <td>NaN</td>\n",
       "    </tr>\n",
       "    <tr>\n",
       "      <th>2</th>\n",
       "      <td>2</td>\n",
       "      <td>100039237</td>\n",
       "      <td>10003923</td>\n",
       "      <td>3</td>\n",
       "      <td>20160825.0</td>\n",
       "      <td>NaN</td>\n",
       "      <td>NaN</td>\n",
       "      <td>NaN</td>\n",
       "    </tr>\n",
       "    <tr>\n",
       "      <th>3</th>\n",
       "      <td>3</td>\n",
       "      <td>1000588614</td>\n",
       "      <td>10005886</td>\n",
       "      <td>1</td>\n",
       "      <td>201306.0</td>\n",
       "      <td>NaN</td>\n",
       "      <td>NaN</td>\n",
       "      <td>NaN</td>\n",
       "    </tr>\n",
       "    <tr>\n",
       "      <th>4</th>\n",
       "      <td>4</td>\n",
       "      <td>100063033</td>\n",
       "      <td>10006303</td>\n",
       "      <td>1</td>\n",
       "      <td>201203.0</td>\n",
       "      <td>NaN</td>\n",
       "      <td>NaN</td>\n",
       "      <td>NaN</td>\n",
       "    </tr>\n",
       "  </tbody>\n",
       "</table>\n",
       "</div>"
      ],
      "text/plain": [
       "   index  Primary_ID   Case_ID  Drug_Seq    Start_Dt  End_Dt  \\\n",
       "0      0   100039237  10003923         1      2011.0     NaN   \n",
       "1      1   100039237  10003923         2  20120106.0     NaN   \n",
       "2      2   100039237  10003923         3  20160825.0     NaN   \n",
       "3      3  1000588614  10005886         1    201306.0     NaN   \n",
       "4      4   100063033  10006303         1    201203.0     NaN   \n",
       "\n",
       "   Therapy_Duration Ther_Units  \n",
       "0               NaN        NaN  \n",
       "1               NaN        NaN  \n",
       "2               NaN        NaN  \n",
       "3               NaN        NaN  \n",
       "4               NaN        NaN  "
      ]
     },
     "execution_count": 9,
     "metadata": {},
     "output_type": "execute_result"
    }
   ],
   "source": [
    "### Therapy dataframe\n",
    "therapy_txt.reset_index(inplace = True)\n",
    "therapy_txt.fillna(value = 'Unknown')\n",
    "therapy_txt = pd.DataFrame(therapy_txt)\n",
    "\n",
    "therapy_txt[:5] #--preview first 5 rows -"
   ]
  },
  {
   "cell_type": "code",
   "execution_count": 10,
   "metadata": {
    "collapsed": false,
    "deletable": true,
    "editable": true,
    "scrolled": true
   },
   "outputs": [],
   "source": [
    "### Drug_dataframe\n",
    "drug_txt.reset_index(level = 0)\n",
    "drug_txt.fillna(value = 'Unknown' )\n",
    "drug_txt = pd.DataFrame(drug_txt)\n",
    "\n",
    "### Remove cases where Active_Ingredient is not null\n",
    "drug_txt1 = drug_txt[drug_txt['Active_Ingredient'].notnull()]\n",
    "drug_txt1 = drug_txt1[drug_txt1['Drug_Name_Source'].notnull()]\n",
    "\n",
    "\n",
    "## Test a query for all patients witha  report involving clonazepam\n",
    "#drug_txt[drug_txt['Active_Ingredient'] == 'CLONAZEPAM']"
   ]
  },
  {
   "cell_type": "code",
   "execution_count": null,
   "metadata": {
    "collapsed": false
   },
   "outputs": [],
   "source": [
    "### template search for common ICU terms in drug_txt\n",
    "\n",
    "med1_mdd = drug_txt1[drug_txt1.Active_Ingredient.str.contains('PIPERACILLIN')]\n",
    "med1_mdd"
   ]
  },
  {
   "cell_type": "markdown",
   "metadata": {
    "collapsed": true,
    "deletable": true,
    "editable": true
   },
   "source": [
    "### Part IV. Stratifying the 2017 QI FAERS cases based on Indications and Medications"
   ]
  },
  {
   "cell_type": "markdown",
   "metadata": {
    "deletable": true,
    "editable": true
   },
   "source": [
    "#### B. Identifying indications of interest from 2017 Q1 FAERS data"
   ]
  },
  {
   "cell_type": "markdown",
   "metadata": {},
   "source": [
    "### List of medications provided\n",
    "\n",
    " * PHENYLEPHERINE !GTT /\n",
    " * NOREPINEPHRINE EPINEPHRINE !GTT \n",
    " * VASOPRESSIN !GTT\n",
    " * MILRINONE !GTT\n",
    " * AMIODARONE \n",
    " * VECURONIUM !GTT\n",
    " * CISATRACURIUM \n",
    " * PROPOFOL \n",
    " * LORAZEPAM \n",
    " * HYDROMORPHONE \n",
    " * DEXMEDETOMIDINE \n",
    " * BLOOD TRANSFUSION \n",
    " * HEPARIN \n",
    " * MEROPENEM  \n",
    " * VANCOMYCIN \n",
    " * FLUCONAZOLE \n",
    " * CASPOFUNGIN \n",
    " * TOBRAMYCIN\n",
    " * PIPERACILLIN\n"
   ]
  },
  {
   "cell_type": "code",
   "execution_count": 97,
   "metadata": {
    "collapsed": true,
    "editable": true
   },
   "outputs": [],
   "source": [
    "### Find all patients in the first quarter 2017 data with any medication as mentioned above from medication list\n",
    "\n",
    "### drop columns for variables which will not be utilized\n",
    "drop_col_drug = ['Value_VBM','Drug_Name_Source','Route','Verbatim_DoseCum_Dose_to_Rxn',\n",
    "                 'Dechall_Code','Rechall_Code','Lot_Numb', 'Drug_Exp_dt', 'NDA_Numn','Dose_Amount' , \n",
    "                 'Dose_Form', 'Dose_Freq', 'Drug_Name', 'Reporter_role', 'Primary_ID']\n",
    "\n",
    "#all_key = ()\n",
    "#case_key = drug_txt1[drug_txt1.columns[0:3]] ### Create a base key for all Case_IDs\n",
    "\n"
   ]
  },
  {
   "cell_type": "code",
   "execution_count": 41,
   "metadata": {
    "collapsed": false,
    "editable": true
   },
   "outputs": [],
   "source": [
    "### create a dataframe from drug_txt with only cases that contain drugs mentioned in emailed list\n",
    "\n",
    "## PHENYLEPHERINE\n",
    "drug_phenyl = pd.DataFrame(drug_txt1[drug_txt1.Active_Ingredient.str.contains('PHENYLEPHRINE')])\n",
    "drug_phenyl = drug_phenyl[drug_phenyl.Drug_Name_Source.str.contains('Intravenous')]\n",
    "drug_phenylct = len(drug_phenyl)\n"
   ]
  },
  {
   "cell_type": "code",
   "execution_count": 42,
   "metadata": {
    "collapsed": false
   },
   "outputs": [],
   "source": [
    "## NOREPINEPHRINE \n",
    "drug_norepi = pd.DataFrame(drug_txt1[drug_txt1.Active_Ingredient.str.contains('NOREPINEPHRINE')])\n",
    "drug_norepi = drug_norepi[drug_norepi.Drug_Name_Source.str.contains('Intravenous')]\n",
    "drug_norepict = len(drug_norepi)\n",
    "all_drug = drug_phenyl.append(drug_norepi)\n"
   ]
  },
  {
   "cell_type": "code",
   "execution_count": 43,
   "metadata": {
    "collapsed": false
   },
   "outputs": [],
   "source": [
    "## EPINEPHRINE \n",
    "drug_epinep = pd.DataFrame(drug_txt1[drug_txt1.Active_Ingredient.str.contains('EPINEPHRINE')])\n",
    "#drug_epinep = drug_epinep[drug_epinep.Drug_Name_Source.str.contains('Intravenous')]\n",
    "drug_epinepct = len(drug_epinep)\n",
    "all_drug = all_drug.append(drug_epinep)\n"
   ]
  },
  {
   "cell_type": "code",
   "execution_count": 44,
   "metadata": {
    "collapsed": false
   },
   "outputs": [],
   "source": [
    "## VASOPRESSIN\n",
    "drug_vasopres = pd.DataFrame(drug_txt1[drug_txt1.Active_Ingredient.str.contains('VASOPRESSIN')])\n",
    "#drug_vasopres = drug_vasopres[drug_vasopres.Drug_Name_Source.str.contains('Intravenous')]\n",
    "drug_vasopresct = len(drug_vasopres)\n",
    "all_drug = all_drug.append(drug_vasopres)\n"
   ]
  },
  {
   "cell_type": "code",
   "execution_count": 45,
   "metadata": {
    "collapsed": false
   },
   "outputs": [],
   "source": [
    "## MILRINONE\n",
    "drug_milrin = pd.DataFrame(drug_txt1[drug_txt1.Active_Ingredient.str.contains('MILRINONE')])\n",
    "#drug_milrin = drug_milrin[drug_milrin.Drug_Name_Source.str.contains('Intravenous')]\n",
    "drug_milrinct = len(drug_milrin)\n",
    "all_drug = all_drug.append(drug_milrin)\n"
   ]
  },
  {
   "cell_type": "code",
   "execution_count": 46,
   "metadata": {
    "collapsed": false
   },
   "outputs": [],
   "source": [
    "## AMIODARONE\n",
    "drug_amiod = pd.DataFrame(drug_txt1[drug_txt1.Active_Ingredient.str.contains('AMIODARONE')])\n",
    "drug_amiod = drug_amiod[drug_amiod.Drug_Name_Source.str.contains('Intravenous')]\n",
    "drug_amiodct = len(drug_amiod)\n",
    "all_drug = all_drug.append(drug_amiod)\n"
   ]
  },
  {
   "cell_type": "code",
   "execution_count": 47,
   "metadata": {
    "collapsed": false
   },
   "outputs": [],
   "source": [
    "## VECURONIUM GTT\n",
    "drug_vecuro = pd.DataFrame(drug_txt1[drug_txt1.Active_Ingredient.str.contains('VECURONIUM')])\n",
    "drug_vecuro = drug_vecuro[drug_vecuro.Drug_Name_Source.str.contains('Intravenous')]\n",
    "drug_vancoct = len(drug_vecuro)\n",
    "all_drug = all_drug.append(drug_vecuro)\n"
   ]
  },
  {
   "cell_type": "code",
   "execution_count": 48,
   "metadata": {
    "collapsed": false
   },
   "outputs": [],
   "source": [
    "## CISATRACURIUM\n",
    "drug_cisat = pd.DataFrame(drug_txt1[drug_txt1.Active_Ingredient.str.contains('MILRINONE')])\n",
    "drug_cisat = drug_cisat[drug_cisat.Drug_Name_Source.str.contains('Intravenous')]\n",
    "drug_cisatct = len(drug_cisat)\n",
    "all_drug = all_drug.append(drug_cisat)\n"
   ]
  },
  {
   "cell_type": "code",
   "execution_count": 49,
   "metadata": {
    "collapsed": false
   },
   "outputs": [],
   "source": [
    "## PROPOFOL\n",
    "drug_propo = pd.DataFrame(drug_txt1[drug_txt1.Active_Ingredient.str.contains('CISATRACURIUM')])\n",
    "drug_propo = drug_propo[drug_propo.Drug_Name_Source.str.contains('Intravenous')]\n",
    "drug_propoct = len(drug_propo)\n",
    "all_drug = all_drug.append(drug_propo)\n"
   ]
  },
  {
   "cell_type": "code",
   "execution_count": 50,
   "metadata": {
    "collapsed": false
   },
   "outputs": [],
   "source": [
    "## LORAZEPAM\n",
    "drug_loraz = pd.DataFrame(drug_txt1[drug_txt1.Active_Ingredient.str.contains('LORAZEPAM')])\n",
    "drug_loraz = drug_loraz[drug_loraz.Drug_Name_Source.str.contains('Intravenous')]\n",
    "drug_lorazct = len(drug_loraz)\n",
    "all_drug = all_drug.append(drug_loraz)\n"
   ]
  },
  {
   "cell_type": "code",
   "execution_count": 51,
   "metadata": {
    "collapsed": false
   },
   "outputs": [],
   "source": [
    "## HYDROMORPHONE\n",
    "drug_hydromph = pd.DataFrame(drug_txt1[drug_txt1.Active_Ingredient.str.contains('HYDROMORPHONE')])\n",
    "drug_hydromph = drug_hydromph[drug_hydromph.Drug_Name_Source.str.contains('Intravenous')]\n",
    "drug_hydromphct = len(drug_hydromph)\n",
    "all_drug = all_drug.append(drug_hydromph)\n"
   ]
  },
  {
   "cell_type": "code",
   "execution_count": 52,
   "metadata": {
    "collapsed": false
   },
   "outputs": [],
   "source": [
    "## DEXMEDETOMIDINE\n",
    "drug_dexmed = pd.DataFrame(drug_txt1[drug_txt1.Active_Ingredient.str.contains('DEXMEDETOMIDINE')])\n",
    "drug_dexmed = drug_dexmed[drug_dexmed.Drug_Name_Source.str.contains('Intravenous')]\n",
    "drug_dexmedct = len(drug_dexmed)\n",
    "all_drug = all_drug.append(drug_dexmed)\n"
   ]
  },
  {
   "cell_type": "code",
   "execution_count": 53,
   "metadata": {
    "collapsed": false
   },
   "outputs": [],
   "source": [
    "## BLOOD TRANSFUSION\n",
    "drug_blood1 = pd.DataFrame(drug_txt1[drug_txt1.Active_Ingredient.str.contains('BLOOD CELL')])\n",
    "drug_blood1 = drug_blood1[drug_blood1.Drug_Name_Source.str.contains('Intravenous')]\n",
    "#len(drug_blood1)\n",
    "\n",
    "drug_blood2 = pd.DataFrame(drug_txt1[drug_txt1['Active_Ingredient'] == 'WHOLE BLOOD'])\n",
    "#drug_blood2 = drug_blood2[drug_blood2.Drug_Name_Source.str.contains('Intravenous')]\n",
    "#len(drug_blood2)\n",
    "\n",
    "## merge the two kinds of blood transfusions\n",
    "drug_bloodtrns = drug_blood1.append(drug_blood2)\n",
    "drug_bloodtrnsct = len(drug_bloodtrns)\n",
    "all_drug = all_drug.append(drug_bloodtrns)\n"
   ]
  },
  {
   "cell_type": "code",
   "execution_count": 54,
   "metadata": {
    "collapsed": false
   },
   "outputs": [],
   "source": [
    "## HEPARIN\n",
    "drug_heparin = pd.DataFrame(drug_txt1[drug_txt1.Active_Ingredient.str.contains('HEPARIN')])\n",
    "drug_heparin = drug_heparin[drug_heparin.Drug_Name_Source.str.contains('Intravenous')]\n",
    "drug_heparinct = len(drug_heparin)\n",
    "all_drug = all_drug.append(drug_heparin)\n"
   ]
  },
  {
   "cell_type": "code",
   "execution_count": 55,
   "metadata": {
    "collapsed": false
   },
   "outputs": [],
   "source": [
    "## MEROPENEM\n",
    "drug_meropen = pd.DataFrame(drug_txt1[drug_txt1.Active_Ingredient.str.contains('MEROPENEM')])\n",
    "#drug_meropen = drug_meropen[drug_meropen.Drug_Name_Source.str.contains('Intravenous')]\n",
    "drug_meropenct = len(drug_meropen)\n",
    "all_drug = all_drug.append(drug_meropen)\n"
   ]
  },
  {
   "cell_type": "code",
   "execution_count": 56,
   "metadata": {
    "collapsed": false
   },
   "outputs": [],
   "source": [
    "## VANCOMYCIN\n",
    "drug_vanco = pd.DataFrame(drug_txt1[drug_txt1.Active_Ingredient.str.contains('VANCOMYCIN')])\n",
    "drug_vanco = drug_vanco[drug_vanco.Drug_Name_Source.str.contains('Intravenous')]\n",
    "drug_vancoct = len(drug_vanco)\n",
    "all_drug = all_drug.append(drug_vanco)\n",
    "                 "
   ]
  },
  {
   "cell_type": "code",
   "execution_count": 57,
   "metadata": {
    "collapsed": false
   },
   "outputs": [],
   "source": [
    "## FLUCONAZOLE\n",
    "drug_flucon = pd.DataFrame(drug_txt1[drug_txt1.Active_Ingredient.str.contains('FLUCONAZOLE')])\n",
    "drug_flucon = drug_flucon[drug_flucon.Drug_Name_Source.str.contains('Intravenous')]\n",
    "drug_fluconct = len(drug_flucon)\n",
    "all_drug = all_drug.append(drug_flucon)\n",
    "\n"
   ]
  },
  {
   "cell_type": "code",
   "execution_count": 58,
   "metadata": {
    "collapsed": false
   },
   "outputs": [],
   "source": [
    "## CASPOFUNGIN\n",
    "drug_capso = pd.DataFrame(drug_txt1[drug_txt1.Active_Ingredient.str.contains('CASPOFUNGIN')])\n",
    "drug_capso = drug_capso[drug_capso.Drug_Name_Source.str.contains('Intravenous')]\n",
    "drug_capsoct = len(drug_capso)\n",
    "all_drug = all_drug.append(drug_capso)\n",
    "\n"
   ]
  },
  {
   "cell_type": "code",
   "execution_count": 59,
   "metadata": {
    "collapsed": false
   },
   "outputs": [],
   "source": [
    "## TOBRAMYCIN\n",
    "drug_tobra = pd.DataFrame(drug_txt1[drug_txt1.Active_Ingredient.str.contains('TOBRAMYCIN')])\n",
    "drug_tobra = drug_tobra[drug_tobra.Drug_Name_Source.str.contains('Intravenous')]\n",
    "drug_tobract = len(drug_tobra)\n",
    "all_drug = all_drug.append(drug_tobra)\n"
   ]
  },
  {
   "cell_type": "code",
   "execution_count": 60,
   "metadata": {
    "collapsed": true
   },
   "outputs": [],
   "source": [
    "## PIPERACILLIN IV\n",
    "drug_piper = pd.DataFrame(drug_txt1[drug_txt1.Active_Ingredient.str.contains('PIPERACILLIN')])\n",
    "drug_piper = drug_piper[drug_piper.Drug_Name_Source.str.contains('Intravenous')]\n",
    "drug_piperct = len(drug_piper)\n",
    "all_drug = all_drug.append(drug_piper)\n"
   ]
  },
  {
   "cell_type": "code",
   "execution_count": 98,
   "metadata": {
    "collapsed": false
   },
   "outputs": [
    {
     "data": {
      "text/html": [
       "<div>\n",
       "<table border=\"1\" class=\"dataframe\">\n",
       "  <thead>\n",
       "    <tr style=\"text-align: right;\">\n",
       "      <th></th>\n",
       "      <th>Case_ID</th>\n",
       "      <th>Drug_Seq</th>\n",
       "      <th>Active_Ingredient</th>\n",
       "      <th>Cum_Dose_to_Rxn_Units</th>\n",
       "      <th>Dose_Unit</th>\n",
       "    </tr>\n",
       "  </thead>\n",
       "  <tbody>\n",
       "    <tr>\n",
       "      <th>121591</th>\n",
       "      <td>12506465</td>\n",
       "      <td>30</td>\n",
       "      <td>PHENYLEPHRINE\\PHENYLEPHRINE HYDROCHLORIDE</td>\n",
       "      <td>NaN</td>\n",
       "      <td>NaN</td>\n",
       "    </tr>\n",
       "    <tr>\n",
       "      <th>169075</th>\n",
       "      <td>12746333</td>\n",
       "      <td>11</td>\n",
       "      <td>PHENYLEPHRINE HYDROCHLORIDE</td>\n",
       "      <td>NaN</td>\n",
       "      <td>NaN</td>\n",
       "    </tr>\n",
       "    <tr>\n",
       "      <th>245768</th>\n",
       "      <td>12961318</td>\n",
       "      <td>2</td>\n",
       "      <td>PHENYLEPHRINE HYDROCHLORIDE</td>\n",
       "      <td>NaN</td>\n",
       "      <td>UG/KG</td>\n",
       "    </tr>\n",
       "    <tr>\n",
       "      <th>245781</th>\n",
       "      <td>12961318</td>\n",
       "      <td>15</td>\n",
       "      <td>PHENYLEPHRINE\\PHENYLEPHRINE HYDROCHLORIDE</td>\n",
       "      <td>NaN</td>\n",
       "      <td>UG</td>\n",
       "    </tr>\n",
       "    <tr>\n",
       "      <th>247065</th>\n",
       "      <td>12963897</td>\n",
       "      <td>2</td>\n",
       "      <td>PHENYLEPHRINE\\PHENYLEPHRINE HYDROCHLORIDE</td>\n",
       "      <td>NaN</td>\n",
       "      <td>NaN</td>\n",
       "    </tr>\n",
       "    <tr>\n",
       "      <th>250095</th>\n",
       "      <td>12969366</td>\n",
       "      <td>10</td>\n",
       "      <td>PHENYLEPHRINE\\PHENYLEPHRINE HYDROCHLORIDE</td>\n",
       "      <td>NaN</td>\n",
       "      <td>NaN</td>\n",
       "    </tr>\n",
       "    <tr>\n",
       "      <th>253070</th>\n",
       "      <td>12974514</td>\n",
       "      <td>1</td>\n",
       "      <td>PHENYLEPHRINE\\PHENYLEPHRINE HYDROCHLORIDE</td>\n",
       "      <td>NaN</td>\n",
       "      <td>NaN</td>\n",
       "    </tr>\n",
       "    <tr>\n",
       "      <th>256900</th>\n",
       "      <td>12981946</td>\n",
       "      <td>5</td>\n",
       "      <td>PHENYLEPHRINE\\PHENYLEPHRINE HYDROCHLORIDE</td>\n",
       "      <td>NaN</td>\n",
       "      <td>NaN</td>\n",
       "    </tr>\n",
       "    <tr>\n",
       "      <th>257644</th>\n",
       "      <td>12983363</td>\n",
       "      <td>6</td>\n",
       "      <td>PHENYLEPHRINE\\PHENYLEPHRINE HYDROCHLORIDE</td>\n",
       "      <td>NaN</td>\n",
       "      <td>NaN</td>\n",
       "    </tr>\n",
       "    <tr>\n",
       "      <th>260870</th>\n",
       "      <td>12990037</td>\n",
       "      <td>3</td>\n",
       "      <td>PHENYLEPHRINE\\PHENYLEPHRINE HYDROCHLORIDE</td>\n",
       "      <td>NaN</td>\n",
       "      <td>NaN</td>\n",
       "    </tr>\n",
       "  </tbody>\n",
       "</table>\n",
       "</div>"
      ],
      "text/plain": [
       "         Case_ID  Drug_Seq                          Active_Ingredient  \\\n",
       "121591  12506465        30  PHENYLEPHRINE\\PHENYLEPHRINE HYDROCHLORIDE   \n",
       "169075  12746333        11                PHENYLEPHRINE HYDROCHLORIDE   \n",
       "245768  12961318         2                PHENYLEPHRINE HYDROCHLORIDE   \n",
       "245781  12961318        15  PHENYLEPHRINE\\PHENYLEPHRINE HYDROCHLORIDE   \n",
       "247065  12963897         2  PHENYLEPHRINE\\PHENYLEPHRINE HYDROCHLORIDE   \n",
       "250095  12969366        10  PHENYLEPHRINE\\PHENYLEPHRINE HYDROCHLORIDE   \n",
       "253070  12974514         1  PHENYLEPHRINE\\PHENYLEPHRINE HYDROCHLORIDE   \n",
       "256900  12981946         5  PHENYLEPHRINE\\PHENYLEPHRINE HYDROCHLORIDE   \n",
       "257644  12983363         6  PHENYLEPHRINE\\PHENYLEPHRINE HYDROCHLORIDE   \n",
       "260870  12990037         3  PHENYLEPHRINE\\PHENYLEPHRINE HYDROCHLORIDE   \n",
       "\n",
       "       Cum_Dose_to_Rxn_Units Dose_Unit  \n",
       "121591                   NaN       NaN  \n",
       "169075                   NaN       NaN  \n",
       "245768                   NaN     UG/KG  \n",
       "245781                   NaN        UG  \n",
       "247065                   NaN       NaN  \n",
       "250095                   NaN       NaN  \n",
       "253070                   NaN       NaN  \n",
       "256900                   NaN       NaN  \n",
       "257644                   NaN       NaN  \n",
       "260870                   NaN       NaN  "
      ]
     },
     "execution_count": 98,
     "metadata": {},
     "output_type": "execute_result"
    }
   ],
   "source": [
    "## Preview all medications dataframe\n",
    "all_drug.drop(drop_col_drug, axis = 1, inplace = True)\n",
    "all_drug[:10]\n"
   ]
  },
  {
   "cell_type": "code",
   "execution_count": 99,
   "metadata": {
    "collapsed": false
   },
   "outputs": [
    {
     "data": {
      "text/html": [
       "<div>\n",
       "<table border=\"1\" class=\"dataframe\">\n",
       "  <thead>\n",
       "    <tr style=\"text-align: right;\">\n",
       "      <th></th>\n",
       "      <th>Case_ID</th>\n",
       "      <th>Drug_Seq</th>\n",
       "      <th>Active_Ingredient</th>\n",
       "    </tr>\n",
       "  </thead>\n",
       "  <tbody>\n",
       "    <tr>\n",
       "      <th>121591</th>\n",
       "      <td>12506465</td>\n",
       "      <td>30</td>\n",
       "      <td>PHENYLEPHRINE\\PHENYLEPHRINE HYDROCHLORIDE</td>\n",
       "    </tr>\n",
       "    <tr>\n",
       "      <th>169075</th>\n",
       "      <td>12746333</td>\n",
       "      <td>11</td>\n",
       "      <td>PHENYLEPHRINE HYDROCHLORIDE</td>\n",
       "    </tr>\n",
       "    <tr>\n",
       "      <th>245768</th>\n",
       "      <td>12961318</td>\n",
       "      <td>2</td>\n",
       "      <td>PHENYLEPHRINE HYDROCHLORIDE</td>\n",
       "    </tr>\n",
       "    <tr>\n",
       "      <th>245781</th>\n",
       "      <td>12961318</td>\n",
       "      <td>15</td>\n",
       "      <td>PHENYLEPHRINE\\PHENYLEPHRINE HYDROCHLORIDE</td>\n",
       "    </tr>\n",
       "    <tr>\n",
       "      <th>247065</th>\n",
       "      <td>12963897</td>\n",
       "      <td>2</td>\n",
       "      <td>PHENYLEPHRINE\\PHENYLEPHRINE HYDROCHLORIDE</td>\n",
       "    </tr>\n",
       "  </tbody>\n",
       "</table>\n",
       "</div>"
      ],
      "text/plain": [
       "         Case_ID  Drug_Seq                          Active_Ingredient\n",
       "121591  12506465        30  PHENYLEPHRINE\\PHENYLEPHRINE HYDROCHLORIDE\n",
       "169075  12746333        11                PHENYLEPHRINE HYDROCHLORIDE\n",
       "245768  12961318         2                PHENYLEPHRINE HYDROCHLORIDE\n",
       "245781  12961318        15  PHENYLEPHRINE\\PHENYLEPHRINE HYDROCHLORIDE\n",
       "247065  12963897         2  PHENYLEPHRINE\\PHENYLEPHRINE HYDROCHLORIDE"
      ]
     },
     "execution_count": 99,
     "metadata": {},
     "output_type": "execute_result"
    }
   ],
   "source": [
    "### extract the case ID for cases identified above\n",
    "case_key = all_drug[all_drug.columns[0:3]]\n",
    "\n",
    "case_key[:5]"
   ]
  },
  {
   "cell_type": "code",
   "execution_count": 123,
   "metadata": {
    "collapsed": false
   },
   "outputs": [
    {
     "data": {
      "text/plain": [
       "3334"
      ]
     },
     "execution_count": 123,
     "metadata": {},
     "output_type": "execute_result"
    }
   ],
   "source": [
    "## create a dataframe for demographics of patients by case_key\n",
    "demo_all = pd.merge(demographic_txt, case_key, on = ['Case_ID'], how = 'inner')\n",
    "\n",
    "demo_all = demo_all[demo_all.SEX != 'UNK']\n",
    "\n",
    "len(demo_all)\n",
    "### save dataframe d to file\n",
    "demo_all.to_csv('faers_ascii_2017q1/ascii/icuresult1.csv', index = False, header = True, sep = ',')"
   ]
  }
 ],
 "metadata": {
  "kernelspec": {
   "display_name": "Python 3",
   "language": "python",
   "name": "python3"
  },
  "language_info": {
   "codemirror_mode": {
    "name": "ipython",
    "version": 3
   },
   "file_extension": ".py",
   "mimetype": "text/x-python",
   "name": "python",
   "nbconvert_exporter": "python",
   "pygments_lexer": "ipython3",
   "version": "3.6.0"
  }
 },
 "nbformat": 4,
 "nbformat_minor": 2
}
